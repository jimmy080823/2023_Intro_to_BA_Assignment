{
 "cells": [
  {
   "cell_type": "code",
   "execution_count": 5,
   "id": "a24ae676",
   "metadata": {},
   "outputs": [
    {
     "name": "stdout",
     "output_type": "stream",
     "text": [
      "a\n",
      "e\n",
      "s\n",
      "0\n",
      "1\n",
      "2\n",
      "3\n",
      "4\n",
      "Monday\n",
      "Tuesday\n",
      "Wednsday\n",
      "[0, 1, 2, 3, 4, 5, 6, 7, 8, 9]\n",
      "[5, 6, 7, 8, 9]\n",
      "[5, 7, 9]\n"
     ]
    }
   ],
   "source": [
    "def in_both(word1,word2):\n",
    "    for letter in word1:\n",
    "        if letter in word2:\n",
    "            print(letter)          \n",
    "in_both('apples', 'oranges')\n",
    "\n",
    "for i in [0,1,2,3,4]:\n",
    "    print(i)\n",
    "for w in [\"Monday\",\"Tuesday\",\"Wednsday\"]:\n",
    "    print(w)\n",
    "    \n",
    "L = list(range(10))\n",
    "print(L)\n",
    "L2 = list(range(5,10))\n",
    "print(L2)\n",
    "L3 = list(range(5,10,2))\n",
    "print(L3)"
   ]
  },
  {
   "cell_type": "code",
   "execution_count": 9,
   "id": "7b424f17",
   "metadata": {},
   "outputs": [
    {
     "name": "stdout",
     "output_type": "stream",
     "text": [
      "2\n",
      "2 4\n",
      "4 6\n",
      "6 8\n",
      "8 10\n",
      "10 12\n",
      "12 14\n",
      "14 16\n",
      "16 18\n",
      "18 "
     ]
    }
   ],
   "source": [
    "n=10\n",
    "for i in range(1,n):\n",
    "    print(2*i)   #換行\n",
    "    print(\"{}\".format(2*i), end=\" \")  #不換行?\n",
    "    "
   ]
  },
  {
   "cell_type": "code",
   "execution_count": 11,
   "id": "50793d89",
   "metadata": {},
   "outputs": [
    {
     "name": "stdout",
     "output_type": "stream",
     "text": [
      "1 2 3 4 5 6 7 8 9 \n",
      "2 4 6 8 10 12 14 16 18 \n",
      "3 6 9 12 15 18 21 24 27 \n",
      "4 8 12 16 20 24 28 32 36 \n",
      "5 10 15 20 25 30 35 40 45 \n",
      "6 12 18 24 30 36 42 48 54 \n",
      "7 14 21 28 35 42 49 56 63 \n",
      "8 16 24 32 40 48 56 64 72 \n",
      "9 18 27 36 45 54 63 72 81 \n"
     ]
    }
   ],
   "source": [
    "for i in range(1,10):\n",
    "    for j in range(1,10):\n",
    "        print(\"{}\".format(i*j), end=\" \")\n",
    "    print()"
   ]
  },
  {
   "cell_type": "code",
   "execution_count": null,
   "id": "a0416937",
   "metadata": {},
   "outputs": [],
   "source": []
  }
 ],
 "metadata": {
  "kernelspec": {
   "display_name": "Python 3 (ipykernel)",
   "language": "python",
   "name": "python3"
  },
  "language_info": {
   "codemirror_mode": {
    "name": "ipython",
    "version": 3
   },
   "file_extension": ".py",
   "mimetype": "text/x-python",
   "name": "python",
   "nbconvert_exporter": "python",
   "pygments_lexer": "ipython3",
   "version": "3.11.5"
  }
 },
 "nbformat": 4,
 "nbformat_minor": 5
}
